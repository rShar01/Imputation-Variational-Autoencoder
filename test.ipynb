{
 "cells": [
  {
   "cell_type": "code",
   "execution_count": 104,
   "id": "cfab67ba-4aeb-4996-bc38-2daf3710ec6c",
   "metadata": {
    "tags": []
   },
   "outputs": [],
   "source": [
    "import pandas as pd\n",
    "import numpy as np\n",
    "import torch"
   ]
  },
  {
   "cell_type": "code",
   "execution_count": 81,
   "id": "8e96667d-2ee1-4335-8a4b-9b332c659d0e",
   "metadata": {
    "tags": []
   },
   "outputs": [],
   "source": [
    "training = pd.read_csv(\"data/credit-card-train.csv\")\n",
    "y = training[\"IsFraud\"]\n",
    "exclude_columns = [\"id\", \"Time\", \"Transaction_Amount\", \"IsFraud\"]\n",
    "\n",
    "clean_training = training.drop(exclude_columns, axis = 1)"
   ]
  },
  {
   "cell_type": "code",
   "execution_count": 217,
   "id": "df1186cd-9c6b-4315-a203-7c99dcb94777",
   "metadata": {
    "tags": []
   },
   "outputs": [
    {
     "name": "stdout",
     "output_type": "stream",
     "text": [
      "tensor([20, 13, 25,  8, 14])\n",
      "tensor([18, 12, 19, 21, 25])\n",
      "tensor([ 2, 17,  7,  8,  0])\n",
      "tensor([15, 20, 22,  7, 25])\n",
      "tensor([19, 26,  3, 14, 16])\n"
     ]
    },
    {
     "data": {
      "text/plain": [
       "tensor([[ 2.0743e+00, -1.2943e-01, -1.1374e+00,  4.1285e-01, -1.9264e-01,\n",
       "         -1.2101e+00,  1.1070e-01, -2.6348e-01,  9.9990e+03,  1.0878e-01,\n",
       "         -1.0702e+00, -2.3491e-01, -1.0994e+00,  9.9990e+03,  9.9990e+03,\n",
       "          6.5688e-02, -3.0696e-01, -3.2380e-01,  1.0335e-01, -2.9297e-01,\n",
       "          9.9990e+03, -8.8784e-01,  3.3670e-01, -1.1083e-01, -2.9146e-01,\n",
       "          9.9990e+03, -7.6576e-02, -5.9577e-02],\n",
       "        [ 1.9988e+00, -1.2509e+00, -5.2097e-01, -8.9454e-01, -1.1225e+00,\n",
       "         -2.7087e-01, -1.0293e+00,  5.0198e-02, -1.0995e-01,  9.0877e-01,\n",
       "          8.3680e-01, -5.6580e-02,  9.9990e+03, -1.4403e-01, -3.9582e-02,\n",
       "          1.6531e+00, -2.5360e-01, -8.1435e-01,  9.9990e+03,  9.9990e+03,\n",
       "          5.4848e-02,  9.9990e+03,  1.3352e-01, -4.6193e-01, -4.6549e-01,\n",
       "          9.9990e+03, -9.4127e-03, -3.8238e-02],\n",
       "        [ 9.9990e+03,  1.0045e+00,  9.9990e+03, -4.3525e-01,  6.6755e-01,\n",
       "         -9.8835e-01,  9.4815e-01,  9.9990e+03,  9.9990e+03, -8.1838e-01,\n",
       "         -3.7651e-01, -2.2655e-01, -5.5287e-01, -8.8647e-01, -1.8089e-01,\n",
       "          2.3029e-01,  5.9058e-01,  9.9990e+03, -4.3396e-01, -2.1375e-02,\n",
       "         -3.2673e-01, -8.0374e-01,  1.5450e-01,  9.5123e-01, -5.0692e-01,\n",
       "          8.5046e-02,  2.2446e-01,  8.7356e-02],\n",
       "        [ 1.9796e+00, -1.8495e-01, -1.0642e+00,  1.2012e-01, -2.1524e-01,\n",
       "         -6.4883e-01, -8.7826e-02,  9.9990e+03,  8.8584e-01, -7.5274e-03,\n",
       "          6.3744e-01,  6.7696e-01, -1.5048e+00,  5.5404e-01, -8.2436e-01,\n",
       "          9.9990e+03, -9.5838e-02, -3.1252e-01,  6.4266e-01, -3.4009e-01,\n",
       "          9.9990e+03, -7.9792e-02,  9.9990e+03, -4.2939e-02,  7.9893e-04,\n",
       "          9.9990e+03, -5.7780e-02, -7.3839e-02],\n",
       "        [ 1.0259e+00, -1.7183e-01,  1.2037e+00,  9.9990e+03, -6.3657e-01,\n",
       "          1.0991e+00, -9.3865e-01,  5.6924e-01,  6.9266e-01, -9.7495e-02,\n",
       "          1.3389e+00,  1.3914e+00, -1.2817e-01, -8.1836e-02,  9.9990e+03,\n",
       "         -3.3894e-01,  9.9990e+03, -4.2364e-01, -7.3194e-01,  9.9990e+03,\n",
       "          9.9157e-02,  6.0891e-01,  2.7901e-02, -2.6281e-01,  2.5783e-01,\n",
       "         -2.5283e-01,  9.9990e+03,  2.1051e-02]])"
      ]
     },
     "execution_count": 217,
     "metadata": {},
     "output_type": "execute_result"
    }
   ],
   "source": [
    "# Function that takes in a df and ramdomly replaces n features per row with `value`\n",
    "# If random variable in value, then set random = True so a random variable will be used instead \n",
    "\n",
    "def create_random(n):\n",
    "    return torch.tensor(np.random.normal(loc = 0, scale = 1000000, size = n)).float()\n",
    "\n",
    "# Masking df with given value \n",
    "def mask_features(df, n, value, random):\n",
    "    df_copy = df.clone()\n",
    "    \n",
    "    for index, row in enumerate(df_copy):\n",
    "        idx = torch.randperm(row.size(0))[:n]\n",
    "        print(idx)\n",
    "        if random == True:\n",
    "            row[idx] = create_random(n = n)\n",
    "        else: \n",
    "            row[idx] = value\n",
    "        \n",
    "    return df_copy\n",
    "\n",
    "subset = clean_training.iloc[0:5]\n",
    "subset = torch.tensor(subset.values).float()\n",
    "\n",
    "random_mask_df = mask_features(df = subset, n = 5, random = False, value = 9999)\n",
    "random_mask_df"
   ]
  },
  {
   "cell_type": "code",
   "execution_count": null,
   "id": "0186cc12-3dae-40f4-902d-a03bf95682a8",
   "metadata": {},
   "outputs": [],
   "source": []
  },
  {
   "cell_type": "code",
   "execution_count": null,
   "id": "ef237b9d-c6c3-4d2c-9718-c0eb3e285a07",
   "metadata": {},
   "outputs": [],
   "source": []
  }
 ],
 "metadata": {
  "kernelspec": {
   "display_name": "Python 3 (ipykernel)",
   "language": "python",
   "name": "python3"
  },
  "language_info": {
   "codemirror_mode": {
    "name": "ipython",
    "version": 3
   },
   "file_extension": ".py",
   "mimetype": "text/x-python",
   "name": "python",
   "nbconvert_exporter": "python",
   "pygments_lexer": "ipython3",
   "version": "3.10.8"
  }
 },
 "nbformat": 4,
 "nbformat_minor": 5
}
